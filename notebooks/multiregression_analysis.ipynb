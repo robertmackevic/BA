{
 "cells": [
  {
   "cell_type": "code",
   "execution_count": null,
   "metadata": {},
   "outputs": [],
   "source": [
    "import sys\n",
    "\n",
    "sys.path.append(\"..\")\n",
    "\n",
    "import pandas as pd\n",
    "import matplotlib.pyplot as plt\n",
    "\n",
    "from src.config import MULTIREG_MODELS\n",
    "from src.forecast.multireg import NordpoolMultiOutputForecaster"
   ]
  },
  {
   "cell_type": "code",
   "execution_count": null,
   "metadata": {},
   "outputs": [],
   "source": [
    "forecaster = NordpoolMultiOutputForecaster(\n",
    "    path_to_csv=\"../data/nordpool.csv\",\n",
    "    historical_period=24,\n",
    "    forecast_period=24\n",
    ")\n",
    "forecaster.data"
   ]
  },
  {
   "cell_type": "code",
   "execution_count": null,
   "metadata": {},
   "outputs": [],
   "source": [
    "predictions, targets = [], []\n",
    "for model in MULTIREG_MODELS:\n",
    "    forecaster.train(model)\n",
    "    predictions.append(forecaster.predictions)\n",
    "    targets.append(forecaster.targets)"
   ]
  },
  {
   "cell_type": "code",
   "execution_count": null,
   "metadata": {},
   "outputs": [],
   "source": [
    "for i, model in enumerate(MULTIREG_MODELS):\n",
    "    summary = pd.DataFrame()\n",
    "    summary[\"Tikra Kaina\"] = pd.Series(targets[i])\n",
    "    summary[\"Prognozė\"] = pd.Series(predictions[i])\n",
    "    summary.index = forecaster.test_feature_index\n",
    "    summary.plot(\n",
    "        figsize=(16, 8),\n",
    "        grid=True,\n",
    "        xlabel=\"\",\n",
    "        color=[\"blue\", \"red\"],\n",
    "    )\n",
    "    plt.title(f\"Daugialypės regresijos prognozė: {model.__class__.__name__}\", fontsize=20)\n",
    "    plt.ylabel(\"EUR/MWh\", fontsize=16)\n",
    "    plt.legend(prop={\"size\": 18})\n",
    "    plt.xticks(fontsize=15)\n",
    "    plt.yticks(fontsize=15)\n",
    "    plt.xlim(min(summary.index), max(summary.index))\n",
    "    plt.show()"
   ]
  }
 ],
 "metadata": {
  "kernelspec": {
   "display_name": "nordpool",
   "language": "python",
   "name": "python3"
  },
  "language_info": {
   "codemirror_mode": {
    "name": "ipython",
    "version": 3
   },
   "file_extension": ".py",
   "mimetype": "text/x-python",
   "name": "python",
   "nbconvert_exporter": "python",
   "pygments_lexer": "ipython3",
   "version": "3.11.3"
  },
  "orig_nbformat": 4
 },
 "nbformat": 4,
 "nbformat_minor": 2
}
