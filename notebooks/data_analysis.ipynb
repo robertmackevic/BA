{
 "cells": [
  {
   "cell_type": "code",
   "execution_count": null,
   "metadata": {},
   "outputs": [],
   "source": [
    "import sys\n",
    "\n",
    "sys.path.append(\"..\")\n",
    "\n",
    "import numpy as np\n",
    "import seaborn as sns\n",
    "import matplotlib.pyplot as plt\n",
    "\n",
    "from src.data.processing import load_data_from_csv"
   ]
  },
  {
   "cell_type": "code",
   "execution_count": null,
   "metadata": {},
   "outputs": [],
   "source": [
    "nordpool_data = load_data_from_csv(\"../data/nordpool.csv\")\n",
    "nordpool_data = nordpool_data.drop(columns=\"Wind_Power\")\n",
    "nordpool_data"
   ]
  },
  {
   "cell_type": "code",
   "execution_count": null,
   "metadata": {},
   "outputs": [],
   "source": [
    "nordpool_data.info()"
   ]
  },
  {
   "cell_type": "code",
   "execution_count": null,
   "metadata": {},
   "outputs": [],
   "source": [
    "nordpool_data.describe()"
   ]
  },
  {
   "cell_type": "code",
   "execution_count": null,
   "metadata": {},
   "outputs": [],
   "source": [
    "nordpool_data.Electricity_Price.plot(\n",
    "    figsize=(16, 8),\n",
    "    grid=True,\n",
    ")\n",
    "plt.title(\"Elektros energijos kaina\", fontsize=20)\n",
    "plt.xlabel(\"\")\n",
    "plt.ylabel(\"EUR/MWh\", fontsize=16)\n",
    "plt.xticks(fontsize=15)\n",
    "plt.yticks(fontsize=15)\n",
    "plt.show()"
   ]
  },
  {
   "cell_type": "code",
   "execution_count": null,
   "metadata": {},
   "outputs": [],
   "source": [
    "nordpool_data.Consumption.plot(\n",
    "    figsize=(16, 8),\n",
    "    grid=True,\n",
    ")\n",
    "plt.title(\"Elektros energijos suvartojimas\", fontsize=20)\n",
    "plt.xlabel(\"\")\n",
    "plt.ylabel(\"MWh\", fontsize=16)\n",
    "plt.xticks(fontsize=15)\n",
    "plt.yticks(fontsize=15)\n",
    "plt.show()"
   ]
  },
  {
   "cell_type": "code",
   "execution_count": null,
   "metadata": {},
   "outputs": [],
   "source": [
    "nordpool_data.Production.plot(\n",
    "    figsize=(16, 8),\n",
    "    grid=True,\n",
    ")\n",
    "plt.title(\"Elektros energijos gamyba\", fontsize=20)\n",
    "plt.xlabel(\"\")\n",
    "plt.ylabel(\"MWh\", fontsize=16)\n",
    "plt.xticks(fontsize=15)\n",
    "plt.yticks(fontsize=15)\n",
    "plt.show()"
   ]
  },
  {
   "cell_type": "code",
   "execution_count": null,
   "metadata": {},
   "outputs": [],
   "source": [
    "nordpool_data.Exchange.plot(\n",
    "    figsize=(16, 8),\n",
    "    grid=True,\n",
    ")\n",
    "plt.title(\"Elektros energijos mainai\", fontsize=20)\n",
    "plt.xlabel(\"\")\n",
    "plt.ylabel(\"MWh\", fontsize=16)\n",
    "plt.xticks(fontsize=15)\n",
    "plt.yticks(fontsize=15)\n",
    "plt.show()"
   ]
  },
  {
   "cell_type": "code",
   "execution_count": null,
   "metadata": {},
   "outputs": [],
   "source": [
    "nordpool_data.Gasoline_Price.plot(\n",
    "    figsize=(16, 8),\n",
    "    grid=True,\n",
    ")\n",
    "plt.title(\"Kuro kaina\", fontsize=20)\n",
    "plt.xlabel(\"\")\n",
    "plt.ylabel(\"EUR/L\", fontsize=16)\n",
    "plt.xticks(fontsize=15)\n",
    "plt.yticks(fontsize=15)\n",
    "plt.show()"
   ]
  },
  {
   "cell_type": "code",
   "execution_count": null,
   "metadata": {},
   "outputs": [],
   "source": [
    "from matplotlib import pyplot as plt\n",
    "\n",
    "TRAIN_SIZE = 16732\n",
    "\n",
    "plt.figure(figsize=(16, 8))\n",
    "train = nordpool_data.Electricity_Price[:TRAIN_SIZE]\n",
    "test = nordpool_data.Electricity_Price[TRAIN_SIZE:]\n",
    "plt.plot(train, label='Treniravimas', color='blue')\n",
    "plt.plot(test, label='Testavimas', color='red')\n",
    "plt.title(\"Pilnas tikslinių duomenų laikotarpis\", fontsize=20)\n",
    "plt.ylabel(\"EUR/MWh\", fontsize=16)\n",
    "plt.grid()\n",
    "plt.legend(prop={'size': 18})\n",
    "plt.xticks(fontsize=15)\n",
    "plt.yticks(fontsize=15)\n",
    "plt.show()"
   ]
  },
  {
   "cell_type": "code",
   "execution_count": null,
   "metadata": {},
   "outputs": [],
   "source": [
    "train.info()"
   ]
  },
  {
   "cell_type": "code",
   "execution_count": null,
   "metadata": {},
   "outputs": [],
   "source": [
    "test.info()"
   ]
  },
  {
   "cell_type": "code",
   "execution_count": null,
   "metadata": {},
   "outputs": [],
   "source": [
    "sns.pairplot(nordpool_data)\n",
    "plt.show()"
   ]
  },
  {
   "cell_type": "code",
   "execution_count": null,
   "metadata": {},
   "outputs": [],
   "source": [
    "corr = nordpool_data.corr()\n",
    "mask = np.triu(corr)\n",
    "sns.heatmap(nordpool_data.corr(), annot=True, cmap=plt.cm.Blues, mask=None)\n",
    "corr"
   ]
  },
  {
   "cell_type": "code",
   "execution_count": null,
   "metadata": {},
   "outputs": [],
   "source": [
    "nordpool_data.hist(bins=10, figsize=(12, 12))\n",
    "plt.show()"
   ]
  },
  {
   "cell_type": "code",
   "execution_count": null,
   "metadata": {},
   "outputs": [],
   "source": [
    "for data in nordpool_data:\n",
    "    plt.figure(figsize=(4, 4))\n",
    "    sns.boxplot(data=nordpool_data[data])"
   ]
  }
 ],
 "metadata": {
  "kernelspec": {
   "display_name": "kursinis",
   "language": "python",
   "name": "python3"
  },
  "language_info": {
   "codemirror_mode": {
    "name": "ipython",
    "version": 3
   },
   "file_extension": ".py",
   "mimetype": "text/x-python",
   "name": "python",
   "nbconvert_exporter": "python",
   "pygments_lexer": "ipython3",
   "version": "3.11.3"
  },
  "orig_nbformat": 4,
  "vscode": {
   "interpreter": {
    "hash": "fbc2a1f7b7d71fcce1d1c86451a890e34767c6b236ba9cdff55a002205b9ab4f"
   }
  }
 },
 "nbformat": 4,
 "nbformat_minor": 2
}
