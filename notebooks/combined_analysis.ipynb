{
 "cells": [
  {
   "cell_type": "code",
   "execution_count": null,
   "metadata": {},
   "outputs": [],
   "source": [
    "import sys\n",
    "\n",
    "sys.path.append(\"..\")\n",
    "\n",
    "import pandas as pd\n",
    "import matplotlib.pyplot as plt\n",
    "\n",
    "from src.config import AUTOREG_MODELS, MULTIREG_MODELS\n",
    "from src.forecast.multireg import NordpoolMultiOutputForecaster\n",
    "from src.forecast.autoreg import NordpoolAutoregForecaster"
   ]
  },
  {
   "cell_type": "code",
   "execution_count": null,
   "metadata": {},
   "outputs": [],
   "source": [
    "multireg_forecaster = NordpoolMultiOutputForecaster(\n",
    "    path_to_csv=\"../data/nordpool.csv\",\n",
    "    historical_period=24,\n",
    "    forecast_period=24\n",
    ")\n",
    "\n",
    "autoreg_forecaster = NordpoolAutoregForecaster(\n",
    "    path_to_csv=\"../data/nordpool.csv\",\n",
    "    historical_period=24,\n",
    "    forecast_period=24\n",
    ")\n",
    "\n",
    "autoreg_forecaster.data"
   ]
  },
  {
   "cell_type": "code",
   "execution_count": null,
   "metadata": {},
   "outputs": [],
   "source": [
    "autoreg_predictions, autoreg_targets = [], []\n",
    "for model in AUTOREG_MODELS:\n",
    "    autoreg_forecaster.train(model, verbose=False)\n",
    "    autoreg_predictions.append(autoreg_forecaster.predictions)\n",
    "    autoreg_targets.append(autoreg_forecaster.targets)"
   ]
  },
  {
   "cell_type": "code",
   "execution_count": null,
   "metadata": {},
   "outputs": [],
   "source": [
    "multireg_predictions, multireg_targets = [], []\n",
    "for model in MULTIREG_MODELS:\n",
    "    multireg_forecaster.train(model)\n",
    "    multireg_predictions.append(multireg_forecaster.predictions)\n",
    "    multireg_targets.append(multireg_forecaster.targets)"
   ]
  },
  {
   "cell_type": "code",
   "execution_count": null,
   "metadata": {},
   "outputs": [],
   "source": [
    "# Combined graphs\n",
    "_from, _to = 0, len(multireg_predictions[0])\n",
    "for i, model in enumerate(MULTIREG_MODELS):\n",
    "    summary = pd.DataFrame()\n",
    "    summary[\"Tikra Kaina\"] = pd.Series(multireg_targets[i][_from:_to])\n",
    "    summary[\"DR Prognozė\"] = pd.Series(multireg_predictions[i][_from:_to])\n",
    "    summary[\"AR Prognozė\"] = pd.Series(autoreg_predictions[i][_from:_to])\n",
    "    summary.index = multireg_forecaster.test_feature_index[_from:_to]\n",
    "    summary.plot(\n",
    "        figsize=(16, 8),\n",
    "        grid=True,\n",
    "        xlabel=\"\",\n",
    "        color=[\"blue\", \"red\", \"green\"],\n",
    "    )\n",
    "    plt.title(f\"Autoregresijos ir daugialypės regresijos prognozės: {model.__class__.__name__}\", fontsize=20)\n",
    "    plt.ylabel(\"EUR/MWh\", fontsize=16)\n",
    "    plt.legend(prop={\"size\": 18})\n",
    "    plt.xticks(fontsize=15)\n",
    "    plt.yticks(fontsize=15)\n",
    "    plt.xlim(min(summary.index), max(summary.index))\n",
    "    plt.show()"
   ]
  },
  {
   "cell_type": "code",
   "execution_count": null,
   "metadata": {},
   "outputs": [],
   "source": [
    "# Autoreg graphs\n",
    "for i, model in enumerate(AUTOREG_MODELS):\n",
    "    summary = pd.DataFrame()\n",
    "    summary[\"Tikra Kaina\"] = pd.Series(autoreg_targets[i])\n",
    "    summary[\"Prognozė\"] = pd.Series(autoreg_predictions[i])\n",
    "    summary.index = autoreg_forecaster.test_feature_index\n",
    "    summary.plot(\n",
    "        figsize=(16, 8),\n",
    "        grid=True,\n",
    "        xlabel=\"\",\n",
    "        color=[\"blue\", \"green\"],\n",
    "    )\n",
    "    plt.title(f\"Autoregresijos prognozė: {model.__class__.__name__}\", fontsize=20)\n",
    "    plt.ylabel(\"EUR/MWh\", fontsize=16)\n",
    "    plt.legend(prop={\"size\": 18})\n",
    "    plt.xticks(fontsize=15)\n",
    "    plt.yticks(fontsize=15)\n",
    "    plt.xlim(min(summary.index), max(summary.index))\n",
    "    plt.show()"
   ]
  },
  {
   "cell_type": "code",
   "execution_count": null,
   "metadata": {},
   "outputs": [],
   "source": [
    "# Multireg graphs\n",
    "for i, model in enumerate(MULTIREG_MODELS):\n",
    "    summary = pd.DataFrame()\n",
    "    summary[\"Tikra Kaina\"] = pd.Series(multireg_targets[i])\n",
    "    summary[\"Prognozė\"] = pd.Series(multireg_predictions[i])\n",
    "    summary.index = multireg_forecaster.test_feature_index\n",
    "    summary.plot(\n",
    "        figsize=(16, 8),\n",
    "        grid=True,\n",
    "        xlabel=\"\",\n",
    "        color=[\"blue\", \"red\"],\n",
    "    )\n",
    "    plt.title(f\"Daugialypės regresijos prognozė: {model.__class__.__name__}\", fontsize=20)\n",
    "    plt.ylabel(\"EUR/MWh\", fontsize=16)\n",
    "    plt.legend(prop={\"size\": 18})\n",
    "    plt.xticks(fontsize=15)\n",
    "    plt.yticks(fontsize=15)\n",
    "    plt.xlim(min(summary.index), max(summary.index))\n",
    "    plt.show()"
   ]
  }
 ],
 "metadata": {
  "kernelspec": {
   "display_name": "nordpool",
   "language": "python",
   "name": "python3"
  },
  "language_info": {
   "codemirror_mode": {
    "name": "ipython",
    "version": 3
   },
   "file_extension": ".py",
   "mimetype": "text/x-python",
   "name": "python",
   "nbconvert_exporter": "python",
   "pygments_lexer": "ipython3",
   "version": "3.11.3"
  },
  "orig_nbformat": 4
 },
 "nbformat": 4,
 "nbformat_minor": 2
}
